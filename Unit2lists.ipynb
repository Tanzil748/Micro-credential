{
  "nbformat": 4,
  "nbformat_minor": 0,
  "metadata": {
    "colab": {
      "name": "Unit2lists.ipynb",
      "provenance": [],
      "authorship_tag": "ABX9TyPL5rs/rmD0SrBcnU23jyMh",
      "include_colab_link": true
    },
    "kernelspec": {
      "name": "python3",
      "display_name": "Python 3"
    }
  },
  "cells": [
    {
      "cell_type": "markdown",
      "metadata": {
        "id": "view-in-github",
        "colab_type": "text"
      },
      "source": [
        "<a href=\"https://colab.research.google.com/github/Tanzil748/Micro-credential/blob/main/Unit2lists.ipynb\" target=\"_parent\"><img src=\"https://colab.research.google.com/assets/colab-badge.svg\" alt=\"Open In Colab\"/></a>"
      ]
    },
    {
      "cell_type": "code",
      "metadata": {
        "id": "S0JdHowxoEBP"
      },
      "source": [
        "1# Create a list of 5 of your favorite tv shows.  \n",
        "favShow = ['Ink Master','Supernatural','Breaking Bad','Arrow','Flash']"
      ],
      "execution_count": 3,
      "outputs": []
    },
    {
      "cell_type": "code",
      "metadata": {
        "colab": {
          "base_uri": "https://localhost:8080/"
        },
        "id": "qrS0wWr5o-pE",
        "outputId": "6150527f-306d-419c-e4d4-10f41fc1f2a6"
      },
      "source": [
        "2#Print the list in its original order.\n",
        "print(favShow)"
      ],
      "execution_count": 4,
      "outputs": [
        {
          "output_type": "stream",
          "text": [
            "['Ink Master', 'Supernatural', 'Breaking Bad', 'Arrow', 'Flash']\n"
          ],
          "name": "stdout"
        }
      ]
    },
    {
      "cell_type": "code",
      "metadata": {
        "colab": {
          "base_uri": "https://localhost:8080/"
        },
        "id": "t9fzKaCppSs8",
        "outputId": "33ddc9cc-4254-45c1-931d-54a30e21eeb9"
      },
      "source": [
        "3#Use the sorted() function to print the list in alphabetical order.  How is sorted() different from sort()?\n",
        "print(favShow)\n",
        "print(sorted(favShow))\n",
        "\n",
        "# Sort function is permanent while the sorted function is not, meaning sorted would only work for that given case where it is called."
      ],
      "execution_count": 5,
      "outputs": [
        {
          "output_type": "stream",
          "text": [
            "['Ink Master', 'Supernatural', 'Breaking Bad', 'Arrow', 'Flash']\n",
            "['Arrow', 'Breaking Bad', 'Flash', 'Ink Master', 'Supernatural']\n"
          ],
          "name": "stdout"
        }
      ]
    },
    {
      "cell_type": "code",
      "metadata": {
        "colab": {
          "base_uri": "https://localhost:8080/"
        },
        "id": "b4o7LWeup-59",
        "outputId": "5d417dde-bbc8-4b75-c29a-ed98aab287e0"
      },
      "source": [
        "4#Print out your original list.\n",
        "print(favShow)"
      ],
      "execution_count": 11,
      "outputs": [
        {
          "output_type": "stream",
          "text": [
            "['Ink Master', 'Supernatural', 'Breaking Bad', 'Arrow', 'Flash']\n"
          ],
          "name": "stdout"
        }
      ]
    },
    {
      "cell_type": "code",
      "metadata": {
        "colab": {
          "base_uri": "https://localhost:8080/"
        },
        "id": "Np4cv2-ZslNo",
        "outputId": "fc6e7a79-efa7-467f-c396-2ea08ba2da7c"
      },
      "source": [
        "5#Used sorted() to print your list in reverse alphabetical order.\n",
        "reverse = sorted(favShow , reverse = True)\n",
        "print(reverse)"
      ],
      "execution_count": 12,
      "outputs": [
        {
          "output_type": "stream",
          "text": [
            "['Supernatural', 'Ink Master', 'Flash', 'Breaking Bad', 'Arrow']\n"
          ],
          "name": "stdout"
        }
      ]
    },
    {
      "cell_type": "code",
      "metadata": {
        "colab": {
          "base_uri": "https://localhost:8080/"
        },
        "id": "wtToO6UYsoOf",
        "outputId": "1bec38db-b17c-408c-9b15-f9d64cee0b87"
      },
      "source": [
        "6#Create a message indicating how many favorite TV shows you have – use the len() function.\n",
        "print(len(favShow))"
      ],
      "execution_count": 10,
      "outputs": [
        {
          "output_type": "stream",
          "text": [
            "5\n"
          ],
          "name": "stdout"
        }
      ]
    }
  ]
}