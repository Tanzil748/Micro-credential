{
  "nbformat": 4,
  "nbformat_minor": 0,
  "metadata": {
    "colab": {
      "name": "unit2lesson5ASSIGNMENT.ipynb",
      "provenance": [],
      "authorship_tag": "ABX9TyOSSaTjeJ81YuGP/zqHPJ8D",
      "include_colab_link": true
    },
    "kernelspec": {
      "name": "python3",
      "display_name": "Python 3"
    }
  },
  "cells": [
    {
      "cell_type": "markdown",
      "metadata": {
        "id": "view-in-github",
        "colab_type": "text"
      },
      "source": [
        "<a href=\"https://colab.research.google.com/github/Tanzil748/Micro-credential/blob/main/unit2lesson5ASSIGNMENT.ipynb\" target=\"_parent\"><img src=\"https://colab.research.google.com/assets/colab-badge.svg\" alt=\"Open In Colab\"/></a>"
      ]
    },
    {
      "cell_type": "code",
      "metadata": {
        "colab": {
          "base_uri": "https://localhost:8080/"
        },
        "id": "hRdxpczseRc6",
        "outputId": "6d0f7791-6e9b-4c2e-e414-cae942463eeb"
      },
      "source": [
        "#Question 1\n",
        "#Make a list of 5 or more usernames, including an admin account. Imagine you are writing code that will welcome people to your application on login. Loop through the list and print yourgreeting.\n",
        "#a. If the admin account logs in, give them a special greeting. They’re the admin, after all!\n",
        "#b. Other users can get the generic greeting\n",
        "usernames = ['admin', 'user1', 'user2', 'user3', 'user4']\n",
        "message = input('What username will you login with? (admin, user1, user2, user3, user4) ')\n",
        "for username in usernames:\n",
        "  if username == 'admin':\n",
        "    print('Welcome back home admin!')              #admin has unique username\n",
        "  else:\n",
        "    print('Welcome ' + str(username) + '!' )"
      ],
      "execution_count": null,
      "outputs": [
        {
          "output_type": "stream",
          "text": [
            "What username will you login with? (admin, user1, user2, user3, user4) admin\n",
            "Welcome back home admin!\n",
            "Welcome user1!\n",
            "Welcome user2!\n",
            "Welcome user3!\n",
            "Welcome user4!\n"
          ],
          "name": "stdout"
        }
      ]
    },
    {
      "cell_type": "code",
      "metadata": {
        "colab": {
          "base_uri": "https://localhost:8080/"
        },
        "id": "fLJtgIsDnuza",
        "outputId": "3c69ed6f-dd71-43f7-9801-f2957086d3dd"
      },
      "source": [
        "#Question 1 (2nd way)\n",
        "usernames=  {'Hassan':'admin', 'user2': 'user', 'user3': 'user', 'user4': 'user', 'user5': 'user'}\n",
        "          \n",
        "for k, v in usernames.items():\n",
        "        if v == 'admin':\n",
        "          print('Welcome back home admin!')\n",
        "        else:\n",
        "          print('Welcome user!')"
      ],
      "execution_count": 23,
      "outputs": [
        {
          "output_type": "stream",
          "text": [
            "Welcome back home admin!\n",
            "Welcome user!\n",
            "Welcome user!\n",
            "Welcome user!\n",
            "Welcome user!\n"
          ],
          "name": "stdout"
        }
      ]
    },
    {
      "cell_type": "code",
      "metadata": {
        "colab": {
          "base_uri": "https://localhost:8080/"
        },
        "id": "fc4pIIyJjDpo",
        "outputId": "d3913a55-4200-4907-91e9-b6eb858b1abc"
      },
      "source": [
        "#Question 2\n",
        "#Store numbers 1-10 in a list\n",
        "#a. Loop through the list\n",
        "#b. Use an if-elif-else chain inside your loop to print the ordinal ending for each number –\n",
        "#for example – 1 st , 2 nd , 3 rd … etc.\n",
        "numbers = ['1', '2', '3', '4', '5', '6', '7', '8', '9', '10']\n",
        "for number in numbers:\n",
        "  if number == '1':\n",
        "    print('1st')\n",
        "  elif number == '2':\n",
        "    print('2nd')\n",
        "  elif number == '3':\n",
        "    print('3rd')\n",
        "  else:\n",
        "    print(number + 'th')"
      ],
      "execution_count": 25,
      "outputs": [
        {
          "output_type": "stream",
          "text": [
            "1st\n",
            "2nd\n",
            "3rd\n",
            "4th\n",
            "5th\n",
            "6th\n",
            "7th\n",
            "8th\n",
            "9th\n",
            "10th\n"
          ],
          "name": "stdout"
        }
      ]
    }
  ]
}