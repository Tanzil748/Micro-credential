{
  "nbformat": 4,
  "nbformat_minor": 0,
  "metadata": {
    "colab": {
      "name": "Unit2intro.ipynb",
      "provenance": [],
      "authorship_tag": "ABX9TyOe0J+O5f997GMUdpgaP4bH",
      "include_colab_link": true
    },
    "kernelspec": {
      "name": "python3",
      "display_name": "Python 3"
    }
  },
  "cells": [
    {
      "cell_type": "markdown",
      "metadata": {
        "id": "view-in-github",
        "colab_type": "text"
      },
      "source": [
        "<a href=\"https://colab.research.google.com/github/Tanzil748/Micro-credential/blob/main/Unit2intro.ipynb\" target=\"_parent\"><img src=\"https://colab.research.google.com/assets/colab-badge.svg\" alt=\"Open In Colab\"/></a>"
      ]
    },
    {
      "cell_type": "code",
      "metadata": {
        "id": "uwJnyEe1jRZ_"
      },
      "source": [
        "1#What is Python and why is it useful?\n",
        "Python is a popular coding language that is used by engineers to program and develop software. It can be used for many forms of programming including data science and back-end development."
      ],
      "execution_count": null,
      "outputs": []
    },
    {
      "cell_type": "code",
      "metadata": {
        "id": "SQNvKx0RjeAo"
      },
      "source": [
        "2#Are the following variable names allowed in python?\n",
        "1_message   [no]\n",
        "Greeting_message   [yes]\n",
        "Message_1  [yes] \n",
        "First name  [no]\n",
        "Full_name  [yes]"
      ],
      "execution_count": null,
      "outputs": []
    },
    {
      "cell_type": "code",
      "metadata": {
        "id": "1PD5TxmKj3rz"
      },
      "source": [
        "3#Create a variable that holds the string “hello there!”\n",
        "string('hello there!')"
      ],
      "execution_count": null,
      "outputs": []
    },
    {
      "cell_type": "code",
      "metadata": {
        "colab": {
          "base_uri": "https://localhost:8080/"
        },
        "id": "3qZvBC5ckOAJ",
        "outputId": "b216476e-a049-4074-97d8-42e3abad5346"
      },
      "source": [
        "4#Create a variable for first name, last name and an email extension.  Concatenating all three together to form an email address.  \n",
        "firstName = input('Whats your first name? ') \n",
        "lastName = input('Whats your last name? ')\n",
        "email = input('What email do you use? (ex: google > gmail) ')\n",
        "fullEmail = (firstName + lastName + '@' + email + '.com')\n",
        "print(fullEmail)"
      ],
      "execution_count": 10,
      "outputs": [
        {
          "output_type": "stream",
          "text": [
            "Whats your first name? tanzil\n",
            "Whats your last name? hassan\n",
            "What email do you use? (ex: google > gmail) yahoo\n",
            "tanzilhassan@yahoo.com\n"
          ],
          "name": "stdout"
        }
      ]
    },
    {
      "cell_type": "code",
      "metadata": {
        "colab": {
          "base_uri": "https://localhost:8080/"
        },
        "id": "4wpmbPEFlgqq",
        "outputId": "060c2afa-9efd-446d-d9d5-dfcd9cbf9018"
      },
      "source": [
        "5#Store someone you know name in a variable called name.  Print their name in lower and uppercase using a method.\n",
        "name = input('Whats your name?')\n",
        "print(name.lower())\n",
        "print(name.upper())"
      ],
      "execution_count": 5,
      "outputs": [
        {
          "output_type": "stream",
          "text": [
            "Whats your name?tanzil hassan\n",
            "tanzil hassan\n",
            "TANZIL HASSAN\n"
          ],
          "name": "stdout"
        }
      ]
    },
    {
      "cell_type": "code",
      "metadata": {
        "colab": {
          "base_uri": "https://localhost:8080/"
        },
        "id": "7yGUgLEDmTow",
        "outputId": "e5bd9f4c-e497-4a57-c84a-75d3fdb6b671"
      },
      "source": [
        "6#Using a variable, ask your friend if they want to hang out on the 15th of the month.  For example, “Do you want to hang out on the 15th of this month?”  You should have to convert the number to a string.\n",
        "question = input('Do you want to hang out on the 15th of this month? (Yes/No)')\n",
        "print(question + ' ' + 'I can hang out on the' + ' ' + str('15'))"
      ],
      "execution_count": 9,
      "outputs": [
        {
          "output_type": "stream",
          "text": [
            "Do you want to hang out on the 15th of this month? (Yes/No)Yes\n",
            "Yes I can hang out on the 15\n"
          ],
          "name": "stdout"
        }
      ]
    }
  ]
}