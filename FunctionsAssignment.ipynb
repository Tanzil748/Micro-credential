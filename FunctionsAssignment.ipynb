{
  "nbformat": 4,
  "nbformat_minor": 0,
  "metadata": {
    "colab": {
      "name": "FunctionsAssignment.ipynb",
      "provenance": [],
      "authorship_tag": "ABX9TyOaJOaVxGQaeVrL/WTc0+Oj",
      "include_colab_link": true
    },
    "kernelspec": {
      "name": "python3",
      "display_name": "Python 3"
    }
  },
  "cells": [
    {
      "cell_type": "markdown",
      "metadata": {
        "id": "view-in-github",
        "colab_type": "text"
      },
      "source": [
        "<a href=\"https://colab.research.google.com/github/Tanzil748/Micro-credential/blob/main/FunctionsAssignment.ipynb\" target=\"_parent\"><img src=\"https://colab.research.google.com/assets/colab-badge.svg\" alt=\"Open In Colab\"/></a>"
      ]
    },
    {
      "cell_type": "code",
      "metadata": {
        "colab": {
          "base_uri": "https://localhost:8080/"
        },
        "id": "zxIxWZrZN5aJ",
        "outputId": "285794de-ab57-4127-ed16-7f40d29e1450"
      },
      "source": [
        "def gross_pay(hours, rate):\n",
        "  if hours < 40:\n",
        "    grossp = hours * rate\n",
        "    return grossp\n",
        "  else:\n",
        "    grossp = (((hours - 40) *1.5) * rate) + (rate * 40)\n",
        "    return grossp\n",
        "\n",
        "def fouronek():\n",
        "   fourk = gross * 0.1\n",
        "   return fourk\n",
        "\n",
        "def federal_tax():\n",
        "  federal = (gross - fouronek()) * 0.2\n",
        "  return federal\n",
        "\n",
        "def state_tax():\n",
        "  state =(gross - fouronek()) * 0.07\n",
        "  return state\n",
        "\n",
        "def health_insurance():\n",
        "  health = gross * 0.05\n",
        "  return health\n",
        "\n",
        "def net_pay():\n",
        "  net = gross - (federal_tax() + state_tax() + health_insurance() + fouronek())\n",
        "  return net\n",
        "\n",
        "gross = gross_pay(hours, rate)\n",
        "\n",
        "hours = float(input('Total hours you worked this year: '))\n",
        "rate = float(input('How much are you payed per hour worked? : '))\n",
        "\n",
        "def final_statement():\n",
        "  print('Gross Pay = ' + str('{:.2f}'.format(gross)))\n",
        "  print('401k = ' + str('{:.2f}'.format(federal_tax())))\n",
        "  print('Health insurance = ' + str('{:.2f}'.format(health_insurance())))\n",
        "  print('Federal tax = ' + str('{:.2f}'.format(federal_tax())))\n",
        "  print('State tax = ' + str('{:.2f}'.format(state_tax())))\n",
        "  print('Net pay = ' + str('{:.2f}'.format(net_pay())))\n",
        "\n",
        "final_statement()\n"
      ],
      "execution_count": 25,
      "outputs": [
        {
          "output_type": "stream",
          "text": [
            "Total hours you worked this year: 50\n",
            "How much are you payed per hour worked? : 16\n",
            "Gross Pay = 1950.00\n",
            "401k = 351.00\n",
            "Health insurance = 97.50\n",
            "Federal tax = 351.00\n",
            "State tax = 122.85\n",
            "Net pay = 1183.65\n"
          ],
          "name": "stdout"
        }
      ]
    }
  ]
}