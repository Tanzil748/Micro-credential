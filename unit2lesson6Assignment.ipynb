{
  "nbformat": 4,
  "nbformat_minor": 0,
  "metadata": {
    "colab": {
      "name": "unit2lesson6Assignment.ipynb",
      "provenance": [],
      "authorship_tag": "ABX9TyMoAJvOAngFe5qYICkAq4le",
      "include_colab_link": true
    },
    "kernelspec": {
      "name": "python3",
      "display_name": "Python 3"
    }
  },
  "cells": [
    {
      "cell_type": "markdown",
      "metadata": {
        "id": "view-in-github",
        "colab_type": "text"
      },
      "source": [
        "<a href=\"https://colab.research.google.com/github/Tanzil748/Micro-credential/blob/main/unit2lesson6Assignment.ipynb\" target=\"_parent\"><img src=\"https://colab.research.google.com/assets/colab-badge.svg\" alt=\"Open In Colab\"/></a>"
      ]
    },
    {
      "cell_type": "code",
      "metadata": {
        "id": "gQyvgObId6PZ"
      },
      "source": [
        "#Question 1\n",
        "#Create a simple dictionary that stores 2 variables, for example: first and last name.\n",
        "name = {'first_name': 'Tanzil' , 'last_name': 'Hassan'}\n"
      ],
      "execution_count": 48,
      "outputs": []
    },
    {
      "cell_type": "code",
      "metadata": {
        "colab": {
          "base_uri": "https://localhost:8080/"
        },
        "id": "kHBCoQE2gIE7",
        "outputId": "1c785274-faf7-4e73-92e1-93cdbf1f175c"
      },
      "source": [
        "#Question 2\n",
        "#Print out those variables stored in your previous dictionary.\n",
        "print(name)"
      ],
      "execution_count": null,
      "outputs": [
        {
          "output_type": "stream",
          "text": [
            "{'first_name': 'Tanzil', 'last_name': 'Hassan'}\n"
          ],
          "name": "stdout"
        }
      ]
    },
    {
      "cell_type": "code",
      "metadata": {
        "colab": {
          "base_uri": "https://localhost:8080/"
        },
        "id": "ZR6sgONbgWG2",
        "outputId": "e777be3c-0dbc-4f7a-9353-a0d7140f4a7f"
      },
      "source": [
        "#Question 3\n",
        "#Add a message to those variables on printing: for example: “Hello, firstname lastname!”\n",
        "print('Hello, ' + name['first_name'] + ' ' + name['last_name'] + '. How are you?')"
      ],
      "execution_count": null,
      "outputs": [
        {
          "output_type": "stream",
          "text": [
            "Hello, Tanzil Hassan. How are you?\n"
          ],
          "name": "stdout"
        }
      ]
    },
    {
      "cell_type": "code",
      "metadata": {
        "colab": {
          "base_uri": "https://localhost:8080/"
        },
        "id": "epTnpzBCggoY",
        "outputId": "4c0ef3cb-6905-4dc0-c40e-3c6eba75eeef"
      },
      "source": [
        "#Question 4\n",
        "#Create a dictionary that holds 2 key: value pairs:\n",
        "# a. Look through your dictionary and print each pair\n",
        "newDict = {'Borough': 'Queens', 'Neighborhood': 'Woodside'}\n",
        "print(newDict.items())"
      ],
      "execution_count": null,
      "outputs": [
        {
          "output_type": "stream",
          "text": [
            "dict_items([('Borough', 'Queens'), ('Neighborhood', 'Woodside')])\n"
          ],
          "name": "stdout"
        }
      ]
    },
    {
      "cell_type": "code",
      "metadata": {
        "id": "jsBVNEXXmEKv",
        "colab": {
          "base_uri": "https://localhost:8080/"
        },
        "outputId": "69ad2339-5132-4e59-d21d-8befc70ee8dc"
      },
      "source": [
        "#Question 5\n",
        "#Create a nested dictionary containing three dictionaries – these dictionaries could be\n",
        "#anything (favorite pets, travel locations, etc.)\n",
        "#   a. Loop through the dictionaries and print a message for each.\n",
        "nestDict = { 'favorite_pets': {\n",
        "                'pet_1': 'Dog',\n",
        "                'pet_2': 'Cat',\n",
        "                'pet_3': 'Monkey'\n",
        "            },\n",
        "            'travel_locations': {\n",
        "                'location_1': 'Spain',\n",
        "                'location_2': 'England',\n",
        "                'location_3': 'USA'\n",
        "            },\n",
        "            'favorite_color': {\n",
        "                'color_1': 'red',\n",
        "                'color_2': 'blue',\n",
        "                'color_3': 'green'\n",
        "            }\n",
        "}\n",
        "for key,value in nestDict.items():\n",
        "  if key == 'favorite_pets':\n",
        "    print('My favorite pets are: ' + nestDict['favorite_pets']['pet_1'] + ', ' + nestDict['favorite_pets']['pet_2'] + ', ' + nestDict['favorite_pets']['pet_3'])\n",
        "  elif key == 'travel_locations':\n",
        "    print('The locations I would like to go to in the future are: ' + nestDict['travel_locations']['location_1'] + ', ' + nestDict['travel_locations']['location_2'] + ', ' + nestDict['travel_locations']['location_3'])\n",
        "  else:\n",
        "    print('My favorite colors are: ' + nestDict['favorite_color']['color_1'] + ', ' + nestDict['favorite_color']['color_2'] + ', ' + nestDict['favorite_color']['color_3'])"
      ],
      "execution_count": 41,
      "outputs": [
        {
          "output_type": "stream",
          "text": [
            "My favorite pets are: Dog, Cat, Monkey\n",
            "The locations I would like to go to in the future are: Spain, England, USA\n",
            "My favorite colors are: red, blue, green\n"
          ],
          "name": "stdout"
        }
      ]
    }
  ]
}